{
 "cells": [
  {
   "cell_type": "code",
   "execution_count": 41,
   "id": "66f79fec",
   "metadata": {},
   "outputs": [],
   "source": [
    "import ollama"
   ]
  },
  {
   "cell_type": "code",
   "execution_count": 42,
   "id": "f52c058e",
   "metadata": {},
   "outputs": [],
   "source": [
    "\n",
    "RESUME_PROMPT = \"\"\"\n",
    "You are a very smart job application finder. Your task is to extract specific information from a provided job description text. Specifically, identify and extract the following details:\n",
    "\n",
    "1. Company name\n",
    "2. Position name\n",
    "3. Seniority level\n",
    "4. Joining date\n",
    "5. Team name\n",
    "6. Location\n",
    "7. Salary\n",
    "8. Hybrid or Remote?\n",
    "9. What does the company do?\n",
    "10. What does the team do?\n",
    "11. List of job responsibilities\n",
    "12. Skills that are preferred to have\n",
    "13. Skills that are absolutely required to have\n",
    "14. Exceptional skills the team would appreciate if you have\n",
    "15. Technical keywords relevant to the job role\n",
    "16. Necessary experience\n",
    "17. Bonus experience\n",
    "18. Multi-label classification of the job role into:\n",
    "    A. Data Scientist\n",
    "    B. Data Analyst\n",
    "    C. Software Engineer\n",
    "    D. Data Engineer\n",
    "    E. Machine Learning Engineer\n",
    "    F. AI Engineer\n",
    "    G. Gen AI Engineer\n",
    "    H. NLP Engineer\n",
    "19. Company values they would love in the candidate\n",
    "20. Benefits\n",
    "21. Soft skills required for the role\n",
    "\n",
    "Instructions:\n",
    "1. Provide the response in the JSON format.\n",
    "2. Only provide the response in am asking for\n",
    "\n",
    "\n",
    "Example job description:\n",
    "\\\"\\\"\\\"\n",
    "We are seeking a Senior Software Engineer to join the Artificial Intelligence team at Tech Solutions Corp starting from January 2024. The role is based remotely, with an optional hybrid arrangement available from our San Francisco office. The salary range for this position is $120,000 to $150,000 per year. Tech Solutions Corp. specializes in providing cutting-edge AI technologies to various industries. The AI team focuses on developing machine learning models and AI-driven applications. Responsibilities include designing algorithms, conducting experiments, and deploying scalable software solutions. Preferred skills include experience with containerization and cloud services. Required skills are proficiency in Python and experience with TensorFlow. Exceptional skills such as knowledge of reinforcement learning would be appreciated. Keywords: Machine Learning, AI, Python, TensorFlow, Cloud Services, Docker. Required experience includes 5+ years of software development and 3+ years of experience in AI projects. Bonus experience includes contributions to open-source projects. \n",
    "\n",
    "Values: Innovativeness, teamwork, and commitment to excellence.\n",
    "Benefits: 401(k), health insurance, and remote work options.\n",
    "Soft skills required: Strong communication skills, problem-solving, and teamwork.\n",
    "\n",
    "Job role classification: \n",
    "- Software Engineer\n",
    "\\\"\\\"\\\"\n",
    "\n",
    "From the example above, extract the following details:\n",
    "1. Company name: Tech Solutions Corp.\n",
    "2. Position name: Senior Software Engineer\n",
    "3. Seniority level: Senior\n",
    "4. Joining date: January 2024\n",
    "5. Team name: Artificial Intelligence\n",
    "6. Location: San Francisco (optional hybrid) / Remote\n",
    "7. Salary: $120,000 to $150,000 per year\n",
    "8. Hybrid or Remote?: Remote (optional hybrid)\n",
    "9. What does the company do?: Tech Solutions Corp. specializes in providing cutting-edge AI technologies to various industries.\n",
    "10. What does the team do?: The AI team focuses on developing machine learning models and AI-driven applications.\n",
    "11. List of job responsibilities: Designing algorithms, conducting experiments, and deploying scalable software solutions.\n",
    "12. Skills that are preferred to have: Experience with containerization and cloud services.\n",
    "13. Skills that are absolutely required to have: Proficiency in Python and experience with TensorFlow.\n",
    "14. Exceptional skills the team would appreciate: Knowledge of reinforcement learning.\n",
    "15. Technical keywords relevant to the job role: Machine Learning, AI, Python, TensorFlow, Cloud Services, Docker.\n",
    "16. Necessary experience: 5+ years of software development and 3+ years of experience in AI projects.\n",
    "17. Bonus experience: Contributions to open-source projects.\n",
    "18. Job role classification: C. Software Engineer\n",
    "19. Company values: Innovativeness, teamwork, and commitment to excellence.\n",
    "20. Benefits: 401(k), health insurance, and remote work options.\n",
    "21. Soft skills required: Strong communication skills, problem-solving, and teamwork.\n",
    "\n",
    "Please provide the job description text from which you require information.\n",
    "\n",
    "\n",
    "\n",
    "\"\"\""
   ]
  },
  {
   "cell_type": "code",
   "execution_count": 43,
   "id": "60b642e4",
   "metadata": {},
   "outputs": [],
   "source": [
    "# Example usage\n",
    "# Sample JSON job description (can be loaded from a file or API)\n",
    "job_description = {\n",
    "    \"company_name\": \"Tech Solutions Corp\",\n",
    "    \"position_name\": \"Senior Software Engineer\",\n",
    "    \"seniority_level\": \"Senior\",\n",
    "    \"joining_date\": \"January 2024\",\n",
    "    \"team_name\": \"Artificial Intelligence\",\n",
    "    \"location\": \"San Francisco (optional hybrid) / Remote\",\n",
    "    \"salary\": \"$120,000 to $150,000 per year\",\n",
    "    \"hybrid_or_remote\": \"Remote (optional hybrid)\",\n",
    "    \"company_info\": \"Tech Solutions Corp. specializes in providing cutting-edge AI technologies to various industries.\",\n",
    "    \"team_info\": \"The AI team focuses on developing machine learning models and AI-driven applications.\",\n",
    "    \"responsibilities\": [\n",
    "        \"Designing algorithms\",\n",
    "        \"Conducting experiments\",\n",
    "        \"Deploying scalable software solutions\"\n",
    "    ],\n",
    "    \"preferred_skills\": [\n",
    "        \"Experience with containerization\",\n",
    "        \"Cloud services\"\n",
    "    ],\n",
    "    \"required_skills\": [\n",
    "        \"Proficiency in Python\",\n",
    "        \"Experience with TensorFlow\"\n",
    "    ],\n",
    "    \"exceptional_skills\": [\n",
    "        \"Knowledge of reinforcement learning\"\n",
    "    ],\n",
    "    \"keywords\": [\n",
    "        \"Machine Learning\",\n",
    "        \"AI\",\n",
    "        \"Python\",\n",
    "        \"TensorFlow\",\n",
    "        \"Cloud Services\",\n",
    "        \"Docker\"\n",
    "    ],\n",
    "    \"experience\": {\n",
    "        \"required\": \"5+ years of software development\",\n",
    "        \"ai_projects\": \"3+ years of experience in AI projects\"\n",
    "    },\n",
    "    \"bonus_experience\": \"Contributions to open-source projects\",\n",
    "    \"company_values\": [\n",
    "        \"Innovativeness\",\n",
    "        \"Teamwork\",\n",
    "        \"Commitment to excellence\"\n",
    "    ],\n",
    "    \"benefits\": [\n",
    "        \"401(k)\",\n",
    "        \"Health insurance\",\n",
    "        \"Remote work options\"\n",
    "    ],\n",
    "    \"soft_skills\": [\n",
    "        \"Strong communication skills\",\n",
    "        \"Problem-solving\",\n",
    "        \"Teamwork\"\n",
    "    ],\n",
    "    \"role_classification\": \"C. Software Engineer\"\n",
    "}\n"
   ]
  },
  {
   "cell_type": "code",
   "execution_count": 44,
   "id": "d02138e2",
   "metadata": {},
   "outputs": [],
   "source": [
    "import json\n",
    "\n",
    "# Convert the JSON job description to a readable string\n",
    "job_description_text = json.dumps(job_description, indent=2)"
   ]
  },
  {
   "cell_type": "code",
   "execution_count": 45,
   "id": "20c877c2",
   "metadata": {},
   "outputs": [],
   "source": [
    "# Combine the prompt with the job description text\n",
    "full_prompt = RESUME_PROMPT + \"\\n\" + job_description_text\n"
   ]
  },
  {
   "cell_type": "code",
   "execution_count": null,
   "id": "97c52610",
   "metadata": {},
   "outputs": [],
   "source": [
    "def run_llama_prompt(prompt, model=\"llama3.1\"):\n",
    "    \"\"\"\n",
    "    Function to run a custom prompt on LLaMA 3.1 using the Ollama API.\n",
    "\n",
    "    Args:\n",
    "    - prompt (str): The input text you want to send to the model.\n",
    "    - model (str): The model version to use (default is LLaMA 3.1).\n",
    "    - max_tokens (int): The maximum number of tokens to generate in the response (default is 100).\n",
    "    - temperature (float): The sampling temperature to use (default is 0.7). \n",
    "        Higher values produce more random outputs, while lower values make the output more deterministic.\n",
    "\n",
    "    Returns:\n",
    "    - str: The response from the model or an error message.\n",
    "    \"\"\"\n",
    "    try:\n",
    "        # Ensure prompt is a non-empty string\n",
    "        if not isinstance(prompt, str) or not prompt.strip():\n",
    "            raise ValueError(\"Prompt must be a non-empty string.\")\n",
    "\n",
    "        # Send the custom prompt to the LLaMA 3.1 model\n",
    "        response = ollama.generate(\n",
    "            model=model,\n",
    "            prompt=prompt\n",
    "        )\n",
    "        \n",
    "        return response\n",
    "\n",
    "    except ValueError as ve:\n",
    "        return f\"Input Error: {str(ve)}\"\n",
    "    except KeyError as ke:\n",
    "        return f\"Response Error: {str(ke)}\"\n",
    "    except Exception as e:\n",
    "        return f\"Unexpected Error: {str(e)}\"\n"
   ]
  },
  {
   "cell_type": "code",
   "execution_count": 46,
   "id": "bd48ee2f",
   "metadata": {},
   "outputs": [
    {
     "name": "stdout",
     "output_type": "stream",
     "text": [
      "Model Response:\n",
      " {'model': 'llama3.1', 'created_at': '2024-09-29T06:09:37.158815Z', 'response': 'Here is the job description text:\\n\\n\"\"\"\\nWe are seeking a Senior Data Analyst to join the Business Intelligence team at Finance Solutions Inc starting from February 2025. The role is based in our New York office, with an optional hybrid arrangement available. The salary range for this position is $80,000 to $100,000 per year. Finance Solutions Inc. specializes in providing financial services and data-driven insights to various clients. The Business Intelligence team focuses on developing predictive models and business analytics. Responsibilities include analyzing data, creating reports, and making recommendations to stakeholders. Preferred skills include experience with statistical modeling and data visualization tools such as Tableau or Power BI. Required skills are proficiency in Excel, SQL, and experience with Python programming language. Exceptional skills such as knowledge of machine learning algorithms would be appreciated. Keywords: Financial Analysis, Business Intelligence, Data Science, Machine Learning, Python, Excel, SQL, Tableau, Power BI. Required experience includes 3+ years of data analysis and 2+ years of experience in financial services. Bonus experience includes contributions to open-source projects or participation in data science competitions. \\n\\nValues: Integrity, teamwork, and commitment to customer satisfaction.\\nBenefits: Health insurance, retirement plan, and professional development opportunities.\\nSoft skills required: Strong communication skills, problem-solving, and collaboration.\\n\\nJob role classification: \\n- Data Analyst\\n\"\"\"\\n\\nAnd here is the extracted information in JSON format:\\n\\n{\\n  \"company_name\": \"Finance Solutions Inc\",\\n  \"position_name\": \"Senior Data Analyst\",\\n  \"seniority_level\": \"Senior\",\\n  \"joining_date\": \"February 2025\",\\n  \"team_name\": \"Business Intelligence\",\\n  \"location\": \"New York (optional hybrid)\",\\n  \"salary\": \"$80,000 to $100,000 per year\",\\n  \"hybrid_or_remote\": \"On-site (optional hybrid)\",\\n  \"company_info\": \"Finance Solutions Inc. specializes in providing financial services and data-driven insights to various clients.\",\\n  \"team_info\": \"The Business Intelligence team focuses on developing predictive models and business analytics.\",\\n  \"responsibilities\": [\\n    \"Analyzing data\",\\n    \"Creating reports\",\\n    \"Making recommendations to stakeholders\"\\n  ],\\n  \"preferred_skills\": [\\n    \"Experience with statistical modeling\",\\n    \"Data visualization tools such as Tableau or Power BI\"\\n  ],\\n  \"required_skills\": [\\n    \"Proficiency in Excel\",\\n    \"SQL\",\\n    \"Python programming language\"\\n  ],\\n  \"exceptional_skills\": [\\n    \"Knowledge of machine learning algorithms\"\\n  ],\\n  \"keywords\": [\\n    \"Financial Analysis\",\\n    \"Business Intelligence\",\\n    \"Data Science\",\\n    \"Machine Learning\",\\n    \"Python\",\\n    \"Excel\",\\n    \"SQL\",\\n    \"Tableau\",\\n    \"Power BI\"\\n  ],\\n  \"experience\": {\\n    \"required\": \"3+ years of data analysis\",\\n    \"financial_services\": \"2+ years of experience in financial services\"\\n  },\\n  \"bonus_experience\": \"Contributions to open-source projects or participation in data science competitions\",\\n  \"company_values\": [\\n    \"Integrity\",\\n    \"Teamwork\",\\n    \"Commitment to customer satisfaction\"\\n  ],\\n  \"benefits\": [\\n    \"Health insurance\",\\n    \"Retirement plan\",\\n    \"Professional development opportunities\"\\n  ],\\n  \"soft_skills\": [\\n    \"Strong communication skills\",\\n    \"Problem-solving\",\\n    \"Collaboration\"\\n  ],\\n  \"role_classification\": \"B. Data Analyst\"\\n}', 'done': True, 'done_reason': 'stop', 'context': [128006, 882, 128007, 1432, 2675, 527, 264, 1633, 7941, 2683, 3851, 44830, 13, 4718, 3465, 374, 311, 8819, 3230, 2038, 505, 264, 3984, 2683, 4096, 1495, 13, 45863, 11, 10765, 323, 8819, 279, 2768, 3649, 1473, 16, 13, 8351, 836, 198, 17, 13, 12661, 836, 198, 18, 13, 19903, 488, 2237, 198, 19, 13, 16877, 287, 2457, 198, 20, 13, 8068, 836, 198, 21, 13, 10067, 198, 22, 13, 42858, 198, 23, 13, 50727, 477, 21400, 5380, 24, 13, 3639, 1587, 279, 2883, 656, 5380, 605, 13, 3639, 1587, 279, 2128, 656, 5380, 806, 13, 1796, 315, 2683, 28423, 198, 717, 13, 31340, 430, 527, 15236, 311, 617, 198, 1032, 13, 31340, 430, 527, 11112, 2631, 311, 617, 198, 975, 13, 4204, 278, 7512, 279, 2128, 1053, 15763, 422, 499, 617, 198, 868, 13, 27766, 21513, 9959, 311, 279, 2683, 3560, 198, 845, 13, 95633, 3217, 198, 1114, 13, 29298, 3217, 198, 972, 13, 17896, 7087, 24790, 315, 279, 2683, 3560, 1139, 512, 262, 362, 13, 2956, 68409, 198, 262, 426, 13, 2956, 41570, 198, 262, 356, 13, 4476, 29483, 198, 262, 423, 13, 2956, 29483, 198, 262, 469, 13, 13257, 21579, 29483, 198, 262, 435, 13, 15592, 29483, 198, 262, 480, 13, 9500, 15592, 29483, 198, 262, 473, 13, 452, 12852, 29483, 198, 777, 13, 8351, 2819, 814, 1053, 3021, 304, 279, 9322, 198, 508, 13, 39195, 198, 1691, 13, 25046, 7512, 2631, 369, 279, 3560, 271, 56391, 512, 16, 13, 40665, 279, 2077, 304, 279, 4823, 3645, 627, 17, 13, 8442, 3493, 279, 2077, 304, 1097, 10371, 369, 1432, 13617, 2683, 4096, 512, 7275, 1687, 527, 11125, 264, 19903, 4476, 29483, 311, 5249, 279, 59294, 22107, 2128, 520, 17829, 23508, 22621, 6041, 505, 6186, 220, 2366, 19, 13, 578, 3560, 374, 3196, 39529, 11, 449, 459, 10309, 26038, 27204, 2561, 505, 1057, 5960, 13175, 5274, 13, 578, 16498, 2134, 369, 420, 2361, 374, 400, 4364, 11, 931, 311, 400, 3965, 11, 931, 824, 1060, 13, 17829, 23508, 22621, 13, 46672, 304, 8405, 14713, 48448, 15592, 14645, 311, 5370, 19647, 13, 578, 15592, 2128, 24400, 389, 11469, 5780, 6975, 4211, 323, 15592, 32505, 8522, 13, 74112, 2997, 30829, 26249, 11, 31474, 21896, 11, 323, 61417, 69311, 3241, 10105, 13, 63603, 7512, 2997, 3217, 449, 5593, 2065, 323, 9624, 3600, 13, 12948, 7512, 527, 63239, 304, 13325, 323, 3217, 449, 96086, 13, 4204, 278, 7512, 1778, 439, 6677, 315, 72378, 6975, 1053, 387, 26893, 13, 56795, 25, 13257, 21579, 11, 15592, 11, 13325, 11, 96086, 11, 15161, 8471, 11, 41649, 13, 12948, 3217, 5764, 220, 20, 10, 1667, 315, 3241, 4500, 323, 220, 18, 10, 1667, 315, 3217, 304, 15592, 7224, 13, 29298, 3217, 5764, 19564, 311, 1825, 31874, 7224, 13, 4815, 6359, 25, 55947, 266, 13071, 11, 84633, 11, 323, 15507, 311, 38656, 627, 85423, 25, 220, 10841, 6097, 705, 2890, 8276, 11, 323, 8870, 990, 2671, 627, 31631, 7512, 2631, 25, 27191, 10758, 7512, 11, 3575, 99246, 11, 323, 84633, 382, 12524, 3560, 24790, 25, 720, 12, 4476, 29483, 198, 15425, 3915, 279, 3187, 3485, 11, 8819, 279, 2768, 3649, 512, 16, 13, 8351, 836, 25, 17829, 23508, 22621, 627, 17, 13, 12661, 836, 25, 19903, 4476, 29483, 198, 18, 13, 19903, 488, 2237, 25, 19903, 198, 19, 13, 16877, 287, 2457, 25, 6186, 220, 2366, 19, 198, 20, 13, 8068, 836, 25, 59294, 22107, 198, 21, 13, 10067, 25, 5960, 13175, 320, 13099, 26038, 8, 611, 21400, 198, 22, 13, 42858, 25, 400, 4364, 11, 931, 311, 400, 3965, 11, 931, 824, 1060, 198, 23, 13, 50727, 477, 21400, 4925, 21400, 320, 13099, 26038, 340, 24, 13, 3639, 1587, 279, 2883, 656, 4925, 17829, 23508, 22621, 13, 46672, 304, 8405, 14713, 48448, 15592, 14645, 311, 5370, 19647, 627, 605, 13, 3639, 1587, 279, 2128, 656, 4925, 578, 15592, 2128, 24400, 389, 11469, 5780, 6975, 4211, 323, 15592, 32505, 8522, 627, 806, 13, 1796, 315, 2683, 28423, 25, 7127, 287, 26249, 11, 31474, 21896, 11, 323, 61417, 69311, 3241, 10105, 627, 717, 13, 31340, 430, 527, 15236, 311, 617, 25, 21460, 449, 5593, 2065, 323, 9624, 3600, 627, 1032, 13, 31340, 430, 527, 11112, 2631, 311, 617, 25, 8626, 10603, 304, 13325, 323, 3217, 449, 96086, 627, 975, 13, 4204, 278, 7512, 279, 2128, 1053, 15763, 25, 33025, 315, 72378, 6975, 627, 868, 13, 27766, 21513, 9959, 311, 279, 2683, 3560, 25, 13257, 21579, 11, 15592, 11, 13325, 11, 96086, 11, 15161, 8471, 11, 41649, 627, 845, 13, 95633, 3217, 25, 220, 20, 10, 1667, 315, 3241, 4500, 323, 220, 18, 10, 1667, 315, 3217, 304, 15592, 7224, 627, 1114, 13, 29298, 3217, 25, 97104, 311, 1825, 31874, 7224, 627, 972, 13, 12280, 3560, 24790, 25, 356, 13, 4476, 29483, 198, 777, 13, 8351, 2819, 25, 55947, 266, 13071, 11, 84633, 11, 323, 15507, 311, 38656, 627, 508, 13, 39195, 25, 220, 10841, 6097, 705, 2890, 8276, 11, 323, 8870, 990, 2671, 627, 1691, 13, 25046, 7512, 2631, 25, 27191, 10758, 7512, 11, 3575, 99246, 11, 323, 84633, 382, 5618, 3493, 279, 2683, 4096, 1495, 505, 902, 499, 1397, 2038, 75223, 517, 220, 330, 10348, 1292, 794, 330, 35197, 23508, 22621, 761, 220, 330, 3571, 1292, 794, 330, 48195, 4476, 29483, 761, 220, 330, 12021, 2521, 488, 8438, 794, 330, 48195, 761, 220, 330, 66305, 4257, 794, 330, 33327, 220, 2366, 19, 761, 220, 330, 9376, 1292, 794, 330, 9470, 16895, 22107, 761, 220, 330, 2588, 794, 330, 24661, 13175, 320, 13099, 26038, 8, 611, 21400, 761, 220, 330, 52710, 794, 5312, 4364, 11, 931, 311, 400, 3965, 11, 931, 824, 1060, 761, 220, 330, 8671, 16621, 8908, 37525, 794, 330, 25732, 320, 13099, 26038, 16129, 220, 330, 10348, 3186, 794, 330, 35197, 23508, 22621, 13, 46672, 304, 8405, 14713, 48448, 15592, 14645, 311, 5370, 19647, 10560, 220, 330, 9376, 3186, 794, 330, 791, 15592, 2128, 24400, 389, 11469, 5780, 6975, 4211, 323, 15592, 32505, 8522, 10560, 220, 330, 82689, 13757, 794, 2330, 262, 330, 21103, 287, 26249, 761, 262, 330, 1128, 1076, 287, 21896, 761, 262, 330, 70564, 287, 69311, 3241, 10105, 702, 220, 3291, 220, 330, 74586, 94080, 794, 2330, 262, 330, 35215, 449, 5593, 2065, 761, 262, 330, 16440, 3600, 702, 220, 3291, 220, 330, 6413, 94080, 794, 2330, 262, 330, 19105, 10603, 304, 13325, 761, 262, 330, 35215, 449, 96086, 702, 220, 3291, 220, 330, 7959, 278, 94080, 794, 2330, 262, 330, 81434, 315, 72378, 6975, 702, 220, 3291, 220, 330, 30095, 794, 2330, 262, 330, 22333, 21579, 761, 262, 330, 15836, 761, 262, 330, 31380, 761, 262, 330, 26404, 19410, 761, 262, 330, 16440, 8471, 761, 262, 330, 35, 13973, 702, 220, 3291, 220, 330, 50659, 794, 341, 262, 330, 6413, 794, 330, 20, 10, 1667, 315, 3241, 4500, 761, 262, 330, 2192, 59874, 794, 330, 18, 10, 1667, 315, 3217, 304, 15592, 7224, 702, 220, 1173, 220, 330, 58569, 92242, 794, 330, 54084, 4065, 311, 1825, 31874, 7224, 761, 220, 330, 10348, 9324, 794, 2330, 262, 330, 644, 39142, 266, 13071, 761, 262, 330, 14939, 1816, 761, 262, 330, 34541, 479, 311, 38656, 702, 220, 3291, 220, 330, 68244, 1220, 794, 2330, 262, 330, 10841, 6097, 16129, 262, 330, 14884, 8276, 761, 262, 330, 25732, 990, 2671, 702, 220, 3291, 220, 330, 3594, 94080, 794, 2330, 262, 330, 48686, 10758, 7512, 761, 262, 330, 32298, 99246, 761, 262, 330, 14939, 1816, 702, 220, 3291, 220, 330, 5898, 81972, 794, 330, 34, 13, 4476, 29483, 702, 92, 128009, 128006, 78191, 128007, 271, 8586, 374, 279, 2683, 4096, 1495, 1473, 7275, 1687, 527, 11125, 264, 19903, 2956, 41570, 311, 5249, 279, 8184, 22107, 2128, 520, 23261, 23508, 4953, 6041, 505, 7552, 220, 2366, 20, 13, 578, 3560, 374, 3196, 304, 1057, 1561, 4356, 5274, 11, 449, 459, 10309, 26038, 27204, 2561, 13, 578, 16498, 2134, 369, 420, 2361, 374, 400, 1490, 11, 931, 311, 400, 1041, 11, 931, 824, 1060, 13, 23261, 23508, 4953, 13, 46672, 304, 8405, 6020, 3600, 323, 828, 32505, 26793, 311, 5370, 8403, 13, 578, 8184, 22107, 2128, 24400, 389, 11469, 60336, 4211, 323, 2626, 28975, 13, 74112, 2997, 42118, 828, 11, 6968, 6821, 11, 323, 3339, 19075, 311, 39210, 13, 63603, 7512, 2997, 3217, 449, 29564, 34579, 323, 828, 42148, 7526, 1778, 439, 6771, 2933, 477, 7572, 48153, 13, 12948, 7512, 527, 63239, 304, 21705, 11, 8029, 11, 323, 3217, 449, 13325, 15840, 4221, 13, 4204, 278, 7512, 1778, 439, 6677, 315, 5780, 6975, 26249, 1053, 387, 26893, 13, 56795, 25, 17961, 18825, 11, 8184, 22107, 11, 2956, 10170, 11, 13257, 21579, 11, 13325, 11, 21705, 11, 8029, 11, 6771, 2933, 11, 7572, 48153, 13, 12948, 3217, 5764, 220, 18, 10, 1667, 315, 828, 6492, 323, 220, 17, 10, 1667, 315, 3217, 304, 6020, 3600, 13, 29298, 3217, 5764, 19564, 311, 1825, 31874, 7224, 477, 20852, 304, 828, 8198, 43682, 13, 4815, 6359, 25, 65907, 11, 84633, 11, 323, 15507, 311, 6130, 24617, 627, 85423, 25, 6401, 8276, 11, 21624, 3197, 11, 323, 6721, 4500, 10708, 627, 31631, 7512, 2631, 25, 27191, 10758, 7512, 11, 3575, 99246, 11, 323, 20632, 382, 12524, 3560, 24790, 25, 720, 12, 2956, 41570, 198, 15425, 3112, 1618, 374, 279, 28532, 2038, 304, 4823, 3645, 1473, 517, 220, 330, 10348, 1292, 794, 330, 79188, 23508, 4953, 761, 220, 330, 3571, 1292, 794, 330, 48195, 2956, 41570, 761, 220, 330, 12021, 2521, 488, 8438, 794, 330, 48195, 761, 220, 330, 66305, 4257, 794, 330, 33877, 220, 2366, 20, 761, 220, 330, 9376, 1292, 794, 330, 23562, 22107, 761, 220, 330, 2588, 794, 330, 3648, 4356, 320, 13099, 26038, 16129, 220, 330, 52710, 794, 5312, 1490, 11, 931, 311, 400, 1041, 11, 931, 824, 1060, 761, 220, 330, 8671, 16621, 8908, 37525, 794, 330, 1966, 29654, 320, 13099, 26038, 16129, 220, 330, 10348, 3186, 794, 330, 79188, 23508, 4953, 13, 46672, 304, 8405, 6020, 3600, 323, 828, 32505, 26793, 311, 5370, 8403, 10560, 220, 330, 9376, 3186, 794, 330, 791, 8184, 22107, 2128, 24400, 389, 11469, 60336, 4211, 323, 2626, 28975, 10560, 220, 330, 82689, 13757, 794, 2330, 262, 330, 74407, 20994, 828, 761, 262, 330, 26021, 6821, 761, 262, 330, 43346, 19075, 311, 39210, 702, 220, 3291, 220, 330, 74586, 94080, 794, 2330, 262, 330, 35215, 449, 29564, 34579, 761, 262, 330, 1061, 42148, 7526, 1778, 439, 6771, 2933, 477, 7572, 48153, 702, 220, 3291, 220, 330, 6413, 94080, 794, 2330, 262, 330, 19105, 10603, 304, 21705, 761, 262, 330, 6827, 761, 262, 330, 31380, 15840, 4221, 702, 220, 3291, 220, 330, 7959, 278, 94080, 794, 2330, 262, 330, 81434, 315, 5780, 6975, 26249, 702, 220, 3291, 220, 330, 30095, 794, 2330, 262, 330, 57330, 18825, 761, 262, 330, 23562, 22107, 761, 262, 330, 1061, 10170, 761, 262, 330, 22333, 21579, 761, 262, 330, 31380, 761, 262, 330, 20656, 761, 262, 330, 6827, 761, 262, 330, 2620, 2933, 761, 262, 330, 15335, 48153, 702, 220, 3291, 220, 330, 50659, 794, 341, 262, 330, 6413, 794, 330, 18, 10, 1667, 315, 828, 6492, 761, 262, 330, 76087, 40946, 794, 330, 17, 10, 1667, 315, 3217, 304, 6020, 3600, 702, 220, 1173, 220, 330, 58569, 92242, 794, 330, 54084, 4065, 311, 1825, 31874, 7224, 477, 20852, 304, 828, 8198, 43682, 761, 220, 330, 10348, 9324, 794, 2330, 262, 330, 1090, 68312, 761, 262, 330, 14939, 1816, 761, 262, 330, 34541, 479, 311, 6130, 24617, 702, 220, 3291, 220, 330, 68244, 1220, 794, 2330, 262, 330, 14884, 8276, 761, 262, 330, 12289, 47668, 3197, 761, 262, 330, 58613, 4500, 10708, 702, 220, 3291, 220, 330, 3594, 94080, 794, 2330, 262, 330, 48686, 10758, 7512, 761, 262, 330, 32298, 99246, 761, 262, 330, 15623, 4422, 367, 702, 220, 3291, 220, 330, 5898, 81972, 794, 330, 33, 13, 2956, 41570, 702, 92], 'total_duration': 37727002584, 'load_duration': 4105601834, 'prompt_eval_count': 1240, 'prompt_eval_duration': 5437595000, 'eval_count': 704, 'eval_duration': 28180798000}\n"
     ]
    }
   ],
   "source": [
    "response = run_llama_prompt(full_prompt)\n",
    "print(\"Model Response:\\n\", response)"
   ]
  },
  {
   "cell_type": "code",
   "execution_count": 47,
   "id": "b0fd2b41",
   "metadata": {},
   "outputs": [],
   "source": [
    "response = {'model': 'llama3.1', 'created_at': '2024-09-29T06:29:10.213339Z', 'response': 'Here are the extracted details:\\n\\n\\n1. Company name: **BTI Solutions**\\n2. Position name: **GEN AI Software Engineer**\\n3. Seniority level: Not specified (implied to be senior due to keywords like \"skilled engineer\" and \"lead development\")\\n4. Joining date: Not specified\\n5. Team name: Not specified (implied to be part of the GEN AI team)\\n6. Location: **Ridgefield Park, Bergen, NJ**\\n7. Salary: Not specified\\n8. Hybrid or Remote?: Not specified\\n9. What does the company do?: **BTI Solutions is a staffing and recruiting firm with expertise in providing strategic solutions for employers. They specialize in finding innovative and intelligent strategies for improving productivity, meeting project deadlines, improving hiring quality, decreasing turnover, and reducing total labor costs.**\\n10. What does the team do?: **The GEN AI Software Engineer will lead the development of cutting-edge RAG applications using state-of-the-art LLM technologies.**\\n11. List of job responsibilities: \\n   - Design and implement RAG systems\\n   - Integrate and optimize Large Language Models (LLMs) via APIs\\n   - Develop efficient information retrieval and extraction systems\\n   - Build and manage databases and vector stores\\n   - Apply Natural Language Processing (NLP) techniques\\n   - Monitor performance and continuously improve systems\\n   - Integrate LLM solutions with other third-party tools and in-house applications\\n12. Skills that are preferred to have: \\n   - Contributions to open-source LLM projects\\n   - Experience building AI systems in large-scale production environments\\n   - Experience with vector databases (e.g., Pinecone, Faiss)\\n   - Proficiency with relevant libraries such as Transformers, Hugging Face\\n13. Skills that are absolutely required to have: \\n   - Bachelor\\'s degree or higher in Computer Science, Artificial Intelligence, or related field (Master\\'s preferred)\\n   - Proficiency in Python programming\\n   - Deep understanding of LLMs, RAG systems, and API integration\\n14. Exceptional skills: \\n   - Experience with NLP and machine learning\\n   - Strong skills in database and API development\\n   - Knowledge of distributed systems and cloud computing\\n   - Expertise in integrating AI models with various software solutions\\n15. Company rating: **3.6**\\n16. Requirements: \\n   - Must have a Bachelor\\'s degree or higher in Computer Science, Artificial Intelligence, or related field (Master\\'s preferred)\\n   - Proficiency in Python programming is required', 'done': True, 'done_reason': 'stop', 'context': [128006, 882, 128007, 1432, 2675, 527, 264, 1633, 7941, 2683, 3851, 44830, 13, 4718, 3465, 374, 311, 8819, 3230, 2038, 505, 264, 3984, 2683, 4096, 1495, 13, 45863, 11, 10765, 323, 8819, 279, 2768, 3649, 1473, 16, 13, 8351, 836, 198, 17, 13, 12661, 836, 198, 18, 13, 19903, 488, 2237, 198, 19, 13, 16877, 287, 2457, 198, 20, 13, 8068, 836, 198, 21, 13, 10067, 198, 22, 13, 42858, 198, 23, 13, 50727, 477, 21400, 5380, 24, 13, 3639, 1587, 279, 2883, 656, 5380, 605, 13, 3639, 1587, 279, 2128, 656, 5380, 806, 13, 1796, 315, 2683, 28423, 198, 717, 13, 31340, 430, 527, 15236, 311, 617, 198, 1032, 13, 31340, 430, 527, 11112, 2631, 311, 617, 198, 975, 13, 4204, 278, 7512, 279, 2128, 1053, 15763, 422, 499, 617, 198, 868, 13, 27766, 21513, 9959, 311, 279, 2683, 3560, 198, 845, 13, 95633, 3217, 198, 1114, 13, 29298, 3217, 198, 972, 13, 17896, 7087, 24790, 315, 279, 2683, 3560, 1139, 512, 262, 362, 13, 2956, 68409, 198, 262, 426, 13, 2956, 41570, 198, 262, 356, 13, 4476, 29483, 198, 262, 423, 13, 2956, 29483, 198, 262, 469, 13, 13257, 21579, 29483, 198, 262, 435, 13, 15592, 29483, 198, 262, 480, 13, 9500, 15592, 29483, 198, 262, 473, 13, 452, 12852, 29483, 198, 777, 13, 8351, 2819, 814, 1053, 3021, 304, 279, 9322, 198, 508, 13, 39195, 198, 1691, 13, 25046, 7512, 2631, 369, 279, 3560, 271, 13617, 2683, 4096, 512, 7275, 1687, 527, 11125, 264, 19903, 4476, 29483, 311, 5249, 279, 59294, 22107, 2128, 520, 17829, 23508, 22621, 6041, 505, 6186, 220, 2366, 19, 13, 578, 3560, 374, 3196, 39529, 11, 449, 459, 10309, 26038, 27204, 2561, 505, 1057, 5960, 13175, 5274, 13, 578, 16498, 2134, 369, 420, 2361, 374, 400, 4364, 11, 931, 311, 400, 3965, 11, 931, 824, 1060, 13, 17829, 23508, 22621, 13, 46672, 304, 8405, 14713, 48448, 15592, 14645, 311, 5370, 19647, 13, 578, 15592, 2128, 24400, 389, 11469, 5780, 6975, 4211, 323, 15592, 32505, 8522, 13, 74112, 2997, 30829, 26249, 11, 31474, 21896, 11, 323, 61417, 69311, 3241, 10105, 13, 63603, 7512, 2997, 3217, 449, 5593, 2065, 323, 9624, 3600, 13, 12948, 7512, 527, 63239, 304, 13325, 323, 3217, 449, 96086, 13, 4204, 278, 7512, 1778, 439, 6677, 315, 72378, 6975, 1053, 387, 26893, 13, 56795, 25, 13257, 21579, 11, 15592, 11, 13325, 11, 96086, 11, 15161, 8471, 11, 41649, 13, 12948, 3217, 5764, 220, 20, 10, 1667, 315, 3241, 4500, 323, 220, 18, 10, 1667, 315, 3217, 304, 15592, 7224, 13, 29298, 3217, 5764, 19564, 311, 1825, 31874, 7224, 13, 4815, 6359, 25, 55947, 266, 13071, 11, 84633, 11, 323, 15507, 311, 38656, 627, 85423, 25, 220, 10841, 6097, 705, 2890, 8276, 11, 323, 8870, 990, 2671, 627, 31631, 7512, 2631, 25, 27191, 10758, 7512, 11, 3575, 99246, 11, 323, 84633, 382, 12524, 3560, 24790, 25, 720, 12, 4476, 29483, 198, 15425, 3915, 279, 3187, 3485, 11, 8819, 279, 2768, 3649, 512, 16, 13, 8351, 836, 25, 17829, 23508, 22621, 627, 17, 13, 12661, 836, 25, 19903, 4476, 29483, 198, 18, 13, 19903, 488, 2237, 25, 19903, 198, 19, 13, 16877, 287, 2457, 25, 6186, 220, 2366, 19, 198, 20, 13, 8068, 836, 25, 59294, 22107, 198, 21, 13, 10067, 25, 5960, 13175, 320, 13099, 26038, 8, 611, 21400, 198, 22, 13, 42858, 25, 400, 4364, 11, 931, 311, 400, 3965, 11, 931, 824, 1060, 198, 23, 13, 50727, 477, 21400, 4925, 21400, 320, 13099, 26038, 340, 24, 13, 3639, 1587, 279, 2883, 656, 4925, 17829, 23508, 22621, 13, 46672, 304, 8405, 14713, 48448, 15592, 14645, 311, 5370, 19647, 627, 605, 13, 3639, 1587, 279, 2128, 656, 4925, 578, 15592, 2128, 24400, 389, 11469, 5780, 6975, 4211, 323, 15592, 32505, 8522, 627, 806, 13, 1796, 315, 2683, 28423, 25, 7127, 287, 26249, 11, 31474, 21896, 11, 323, 61417, 69311, 3241, 10105, 627, 717, 13, 31340, 430, 527, 15236, 311, 617, 25, 21460, 449, 5593, 2065, 323, 9624, 3600, 627, 1032, 13, 31340, 430, 527, 11112, 2631, 311, 617, 25, 8626, 10603, 304, 13325, 323, 3217, 449, 96086, 627, 975, 13, 4204, 278, 7512, 279, 2128, 1053, 15763, 25, 33025, 315, 72378, 6975, 627, 868, 13, 27766, 21513, 9959, 311, 279, 2683, 3560, 25, 13257, 21579, 11, 15592, 11, 13325, 11, 96086, 11, 15161, 8471, 11, 41649, 627, 845, 13, 95633, 3217, 25, 220, 20, 10, 1667, 315, 3241, 4500, 323, 220, 18, 10, 1667, 315, 3217, 304, 15592, 7224, 627, 1114, 13, 29298, 3217, 25, 97104, 311, 1825, 31874, 7224, 627, 972, 13, 12280, 3560, 24790, 25, 356, 13, 4476, 29483, 198, 777, 13, 8351, 2819, 25, 55947, 266, 13071, 11, 84633, 11, 323, 15507, 311, 38656, 627, 508, 13, 39195, 25, 220, 10841, 6097, 705, 2890, 8276, 11, 323, 8870, 990, 2671, 627, 1691, 13, 25046, 7512, 2631, 25, 27191, 10758, 7512, 11, 3575, 99246, 11, 323, 84633, 382, 5618, 3493, 279, 2683, 4096, 1495, 505, 902, 499, 1397, 2038, 4286, 5018, 8975, 11703, 794, 62853, 8975, 4096, 25, 13320, 330, 10445, 990, 449, 603, 30, 1360, 1055, 1274, 5253, 1225, 606, 389, 1057, 2128, 706, 15662, 264, 96246, 320, 38034, 1908, 71077, 56546, 8, 477, 356, 10155, 320, 38034, 1908, 55548, 17381, 287, 40420, 8, 84484, 505, 279, 5165, 10229, 315, 71077, 8471, 13, 1226, 527, 11909, 520, 65151, 323, 32959, 449, 810, 1109, 220, 845, 1667, 315, 3217, 13788, 23234, 7919, 1055, 1920, 95113, 5603, 311, 65151, 4536, 3855, 679, 24, 83, 1120, 264, 2697, 2766, 2204, 26, 433, 3855, 679, 24, 82, 264, 4459, 2204, 5041, 1847, 13, 6104, 1455, 65151, 19339, 47032, 7901, 278, 3600, 320, 89894, 323, 21973, 2683, 10373, 705, 21795, 40, 23508, 24400, 389, 8405, 810, 19092, 10105, 50006, 15718, 439, 32027, 50184, 11, 584, 527, 3025, 311, 1505, 18699, 323, 25530, 15174, 369, 18899, 26206, 11, 6574, 2447, 58982, 11, 18899, 24009, 4367, 11, 44649, 48639, 11, 323, 18189, 2860, 9511, 7194, 95113, 32959, 323, 9322, 15813, 1920, 94087, 279, 8592, 4367, 9248, 1990, 2683, 90233, 323, 19683, 11, 779, 499, 690, 636, 1274, 889, 539, 1193, 617, 279, 1314, 43784, 719, 889, 1101, 617, 279, 8475, 17743, 5052, 369, 701, 7471, 7919, 1055, 3135, 93868, 1109, 4205, 11, 279, 8706, 6811, 449, 21795, 40, 23508, 374, 279, 832, 430, 13146, 1455, 25, 5740, 8614, 3135, 13, 2721, 4, 3016, 24617, 4478, 1144, 84, 679, 18, 11193, 3016, 24617, 6296, 13, 17078, 95113, 8403, 617, 6575, 449, 603, 369, 927, 220, 605, 1667, 11, 389, 5578, 1823, 27712, 23508, 14921, 220, 19, 8121, 13875, 51271, 5220, 439, 8403, 11978, 70401, 527, 21795, 40, 23508, 3855, 679, 24, 7928, 2592, 315, 502, 8403, 61493, 10506, 220, 19, 13, 19, 11, 5690, 10506, 220, 19, 13, 23, 11332, 15592, 4476, 29483, 15777, 7817, 25, 60092, 96885, 1687, 2351, 11125, 264, 26611, 24490, 311, 3063, 279, 4500, 315, 14713, 48448, 432, 1929, 8522, 1701, 1614, 8838, 10826, 38921, 445, 11237, 14645, 13, 578, 10728, 9322, 690, 617, 264, 3831, 4092, 304, 15592, 323, 452, 12852, 11, 449, 6206, 10539, 3217, 304, 4857, 323, 74142, 445, 11237, 6108, 6067, 13, 1115, 3560, 7612, 19248, 304, 54952, 445, 11237, 10105, 4669, 34456, 449, 2225, 4948, 24993, 7526, 323, 304, 37002, 8522, 13, 21460, 449, 24124, 13394, 21161, 374, 7701, 33647, 11, 323, 71540, 449, 8162, 13069, 18112, 304, 9624, 22484, 374, 264, 5199, 5636, 5253, 784, 2335, 74112, 25, 42915, 44079, 50, 3651, 423, 1406, 5482, 21103, 323, 4305, 432, 1929, 320, 12289, 7379, 838, 62735, 28078, 24367, 8, 6067, 1090, 58117, 323, 30536, 20902, 11688, 27972, 320, 4178, 22365, 8, 4669, 34456, 21076, 11297, 2038, 57470, 323, 33289, 6067, 11313, 323, 10299, 32906, 323, 4724, 10756, 29597, 18955, 11688, 29225, 320, 45, 12852, 8, 12823, 31198, 5178, 323, 31978, 7417, 6067, 1090, 58117, 445, 11237, 10105, 449, 1023, 4948, 24993, 7526, 323, 304, 37002, 8522, 21103, 323, 4305, 34456, 369, 47970, 18052, 315, 445, 11237, 17357, 32876, 12522, 279, 23548, 26517, 6072, 25, 16074, 9410, 3651, 44079, 50, 67677, 23295, 20143, 7174, 25, 54084, 4065, 311, 1825, 31874, 445, 11237, 7224, 35215, 4857, 15592, 6067, 304, 3544, 13230, 5788, 22484, 35215, 449, 4724, 32906, 320, 68, 1326, 2637, 42609, 59182, 11, 18145, 1056, 8, 19105, 10603, 449, 9959, 20797, 1778, 439, 81632, 11, 473, 36368, 19109, 35215, 449, 24124, 13394, 21161, 369, 15592, 14, 2735, 1646, 24047, 323, 6373, 35215, 449, 8162, 13069, 18112, 320, 4931, 32, 8, 304, 9624, 22484, 37, 41505, 488, 449, 445, 11237, 5446, 12850, 320, 68, 1326, 2637, 5377, 15836, 11, 16989, 45036, 11, 84675, 486, 8, 10254, 651, 87003, 34884, 25, 54, 9410, 10245, 74823, 55902, 53, 9311, 11, 2794, 5782, 30, 2822, 60302, 25, 1507, 5576, 3579, 3651, 81181, 57782, 87831, 596, 8547, 477, 5190, 304, 17863, 10170, 11, 59294, 22107, 11, 477, 5552, 2115, 320, 18532, 596, 15236, 8, 19105, 10603, 304, 13325, 15840, 34564, 8830, 315, 445, 11237, 82, 11, 432, 1929, 6067, 11, 323, 5446, 18052, 35215, 449, 452, 12852, 323, 5780, 6975, 48686, 7512, 304, 4729, 323, 5446, 4500, 81434, 315, 4332, 6067, 323, 9624, 25213, 75392, 1082, 304, 54952, 15592, 4211, 449, 5370, 3241, 10105, 50, 54376, 17829, 14619, 25, 14126, 25, 13325, 90715, 25, 5468, 51, 22312, 477, 96086, 11, 17737, 7227, 477, 29273, 369, 5446, 4500, 35, 24760, 25, 74701, 11, 27436, 11, 46428, 11, 3866, 39402, 25, 42609, 59182, 11, 18145, 1056, 16440, 96209, 25, 24124, 320, 16564, 13394, 21161, 705, 5195, 15161, 11, 477, 35219, 53564, 14173, 25, 9091, 58125, 11, 49431, 36269, 9388, 1145, 330, 8975, 13563, 794, 62853, 10348, 836, 794, 330, 18066, 40, 23508, 498, 330, 12524, 3560, 794, 330, 11332, 15592, 4476, 29483, 498, 330, 10348, 10959, 794, 330, 18, 13, 21, 498, 330, 12524, 10067, 794, 330, 49, 6614, 2630, 5657, 11, 80099, 11, 27816, 9388, 14316, 128009, 128006, 78191, 128007, 271, 8586, 527, 279, 28532, 3649, 25393, 16, 13, 8351, 836, 25, 3146, 18066, 40, 23508, 1035, 17, 13, 12661, 836, 25, 3146, 11332, 15592, 4476, 29483, 1035, 18, 13, 19903, 488, 2237, 25, 2876, 5300, 320, 318, 3523, 311, 387, 10195, 4245, 311, 21513, 1093, 330, 4991, 4473, 24490, 1, 323, 330, 27152, 4500, 1158, 19, 13, 16877, 287, 2457, 25, 2876, 5300, 198, 20, 13, 8068, 836, 25, 2876, 5300, 320, 318, 3523, 311, 387, 961, 315, 279, 43774, 15592, 2128, 340, 21, 13, 10067, 25, 3146, 49, 6614, 2630, 5657, 11, 80099, 11, 27816, 1035, 22, 13, 42858, 25, 2876, 5300, 198, 23, 13, 50727, 477, 21400, 4925, 2876, 5300, 198, 24, 13, 3639, 1587, 279, 2883, 656, 4925, 3146, 18066, 40, 23508, 374, 264, 65151, 323, 32959, 7626, 449, 19248, 304, 8405, 19092, 10105, 369, 23234, 13, 2435, 48444, 304, 9455, 18699, 323, 25530, 15174, 369, 18899, 26206, 11, 6574, 2447, 58982, 11, 18899, 24009, 4367, 11, 44649, 48639, 11, 323, 18189, 2860, 9511, 7194, 13, 1035, 605, 13, 3639, 1587, 279, 2128, 656, 4925, 3146, 791, 43774, 15592, 4476, 29483, 690, 3063, 279, 4500, 315, 14713, 48448, 432, 1929, 8522, 1701, 1614, 8838, 10826, 38921, 445, 11237, 14645, 13, 1035, 806, 13, 1796, 315, 2683, 28423, 25, 720, 256, 482, 7127, 323, 4305, 432, 1929, 6067, 198, 256, 482, 1357, 58117, 323, 30536, 20902, 11688, 27972, 320, 4178, 22365, 8, 4669, 34456, 198, 256, 482, 8000, 11297, 2038, 57470, 323, 33289, 6067, 198, 256, 482, 8012, 323, 10299, 32906, 323, 4724, 10756, 198, 256, 482, 21194, 18955, 11688, 29225, 320, 45, 12852, 8, 12823, 198, 256, 482, 24423, 5178, 323, 31978, 7417, 6067, 198, 256, 482, 1357, 58117, 445, 11237, 10105, 449, 1023, 4948, 24993, 7526, 323, 304, 37002, 8522, 198, 717, 13, 31340, 430, 527, 15236, 311, 617, 25, 720, 256, 482, 97104, 311, 1825, 31874, 445, 11237, 7224, 198, 256, 482, 21460, 4857, 15592, 6067, 304, 3544, 13230, 5788, 22484, 198, 256, 482, 21460, 449, 4724, 32906, 320, 68, 1326, 2637, 42609, 59182, 11, 18145, 1056, 340, 256, 482, 8626, 10603, 449, 9959, 20797, 1778, 439, 81632, 11, 473, 36368, 19109, 198, 1032, 13, 31340, 430, 527, 11112, 2631, 311, 617, 25, 720, 256, 482, 42090, 596, 8547, 477, 5190, 304, 17863, 10170, 11, 59294, 22107, 11, 477, 5552, 2115, 320, 18532, 596, 15236, 340, 256, 482, 8626, 10603, 304, 13325, 15840, 198, 256, 482, 18682, 8830, 315, 445, 11237, 82, 11, 432, 1929, 6067, 11, 323, 5446, 18052, 198, 975, 13, 4204, 278, 7512, 25, 720, 256, 482, 21460, 449, 452, 12852, 323, 5780, 6975, 198, 256, 482, 27191, 7512, 304, 4729, 323, 5446, 4500, 198, 256, 482, 33025, 315, 4332, 6067, 323, 9624, 25213, 198, 256, 482, 33257, 1082, 304, 54952, 15592, 4211, 449, 5370, 3241, 10105, 198, 868, 13, 8351, 10959, 25, 3146, 18, 13, 21, 1035, 845, 13, 34884, 25, 720, 256, 482, 15832, 617, 264, 42090, 596, 8547, 477, 5190, 304, 17863, 10170, 11, 59294, 22107, 11, 477, 5552, 2115, 320, 18532, 596, 15236, 340, 256, 482, 8626, 10603, 304, 13325, 15840, 374, 2631], 'total_duration': 30423583667, 'load_duration': 38648375, 'prompt_eval_count': 1627, 'prompt_eval_duration': 9028972000, 'eval_count': 516, 'eval_duration': 21352737000}"
   ]
  },
  {
   "cell_type": "code",
   "execution_count": 48,
   "id": "60381b56",
   "metadata": {},
   "outputs": [
    {
     "ename": "ValueError",
     "evalue": "No relevant information found in the response.",
     "output_type": "error",
     "traceback": [
      "\u001b[0;31m---------------------------------------------------------------------------\u001b[0m",
      "\u001b[0;31mValueError\u001b[0m                                Traceback (most recent call last)",
      "\u001b[0;32m/var/folders/dq/pg0mssxn6yzdwtcdrwnt0bs80000gn/T/ipykernel_36235/3559697757.py\u001b[0m in \u001b[0;36m<module>\u001b[0;34m\u001b[0m\n\u001b[1;32m     10\u001b[0m     \u001b[0mjson_str\u001b[0m \u001b[0;34m=\u001b[0m \u001b[0mresponse_str\u001b[0m\u001b[0;34m[\u001b[0m\u001b[0mstart_index\u001b[0m\u001b[0;34m:\u001b[0m\u001b[0;34m]\u001b[0m\u001b[0;34m.\u001b[0m\u001b[0msplit\u001b[0m\u001b[0;34m(\u001b[0m\u001b[0;34m\"\\\\n\"\u001b[0m\u001b[0;34m)\u001b[0m\u001b[0;34m[\u001b[0m\u001b[0;34m-\u001b[0m\u001b[0;36m1\u001b[0m\u001b[0;34m]\u001b[0m  \u001b[0;31m# Split to get the last part after line breaks\u001b[0m\u001b[0;34m\u001b[0m\u001b[0;34m\u001b[0m\u001b[0m\n\u001b[1;32m     11\u001b[0m \u001b[0;32melse\u001b[0m\u001b[0;34m:\u001b[0m\u001b[0;34m\u001b[0m\u001b[0;34m\u001b[0m\u001b[0m\n\u001b[0;32m---> 12\u001b[0;31m     \u001b[0;32mraise\u001b[0m \u001b[0mValueError\u001b[0m\u001b[0;34m(\u001b[0m\u001b[0;34m\"No relevant information found in the response.\"\u001b[0m\u001b[0;34m)\u001b[0m\u001b[0;34m\u001b[0m\u001b[0;34m\u001b[0m\u001b[0m\n\u001b[0m\u001b[1;32m     13\u001b[0m \u001b[0;34m\u001b[0m\u001b[0m\n\u001b[1;32m     14\u001b[0m \u001b[0;31m# Step 3: Clean the extracted string to ensure it's valid JSON\u001b[0m\u001b[0;34m\u001b[0m\u001b[0;34m\u001b[0m\u001b[0m\n",
      "\u001b[0;31mValueError\u001b[0m: No relevant information found in the response."
     ]
    }
   ],
   "source": [
    "import json\n",
    "\n",
    "# Step 1: Extract the string from the 'response' key in the dictionary\n",
    "response_str = response['response']  # Access the string associated with the 'response' key\n",
    "\n",
    "# Step 2: Find the index where the relevant information starts\n",
    "start_index = response_str.find(\"And here is the extracted information in JSON format:\")\n",
    "if start_index != -1:\n",
    "    # Extract the substring starting from the relevant part\n",
    "    json_str = response_str[start_index:].split(\"\\\\n\")[-1]  # Split to get the last part after line breaks\n",
    "else:\n",
    "    raise ValueError(\"No relevant information found in the response.\")\n",
    "\n",
    "# Step 3: Clean the extracted string to ensure it's valid JSON\n",
    "json_str = json_str.replace(\"And here is the extracted information in JSON format:\", \"\").strip()\n",
    "json_str = json_str.replace('\\\\n', '').replace('\\\\', '')  # Remove unnecessary escape characters\n",
    "\n",
    "# Step 4: Load the cleaned JSON string into a Python dictionary\n",
    "try:\n",
    "    extracted_info = json.loads(json_str)\n",
    "    # Print the structured data\n",
    "    print(json.dumps(extracted_info, indent=4))  # Pretty-print the structured data\n",
    "except json.JSONDecodeError as e:\n",
    "    print(\"JSON Decode Error:\", e)\n",
    "    print(\"Extracted JSON string was:\", json_str)  # Print the extracted JSON for debugging\n"
   ]
  },
  {
   "cell_type": "code",
   "execution_count": 49,
   "id": "27142062",
   "metadata": {},
   "outputs": [],
   "source": [
    "# Step 1: Extract the string from the 'response' key in the dictionary\n",
    "response_str = response['response'] "
   ]
  },
  {
   "cell_type": "code",
   "execution_count": 51,
   "id": "16964d92",
   "metadata": {},
   "outputs": [
    {
     "data": {
      "text/plain": [
       "'Here are the extracted details:\\n\\n\\n1. Company name: **BTI Solutions**\\n2. Position name: **GEN AI Software Engineer**\\n3. Seniority level: Not specified (implied to be senior due to keywords like \"skilled engineer\" and \"lead development\")\\n4. Joining date: Not specified\\n5. Team name: Not specified (implied to be part of the GEN AI team)\\n6. Location: **Ridgefield Park, Bergen, NJ**\\n7. Salary: Not specified\\n8. Hybrid or Remote?: Not specified\\n9. What does the company do?: **BTI Solutions is a staffing and recruiting firm with expertise in providing strategic solutions for employers. They specialize in finding innovative and intelligent strategies for improving productivity, meeting project deadlines, improving hiring quality, decreasing turnover, and reducing total labor costs.**\\n10. What does the team do?: **The GEN AI Software Engineer will lead the development of cutting-edge RAG applications using state-of-the-art LLM technologies.**\\n11. List of job responsibilities: \\n   - Design and implement RAG systems\\n   - Integrate and optimize Large Language Models (LLMs) via APIs\\n   - Develop efficient information retrieval and extraction systems\\n   - Build and manage databases and vector stores\\n   - Apply Natural Language Processing (NLP) techniques\\n   - Monitor performance and continuously improve systems\\n   - Integrate LLM solutions with other third-party tools and in-house applications\\n12. Skills that are preferred to have: \\n   - Contributions to open-source LLM projects\\n   - Experience building AI systems in large-scale production environments\\n   - Experience with vector databases (e.g., Pinecone, Faiss)\\n   - Proficiency with relevant libraries such as Transformers, Hugging Face\\n13. Skills that are absolutely required to have: \\n   - Bachelor\\'s degree or higher in Computer Science, Artificial Intelligence, or related field (Master\\'s preferred)\\n   - Proficiency in Python programming\\n   - Deep understanding of LLMs, RAG systems, and API integration\\n14. Exceptional skills: \\n   - Experience with NLP and machine learning\\n   - Strong skills in database and API development\\n   - Knowledge of distributed systems and cloud computing\\n   - Expertise in integrating AI models with various software solutions\\n15. Company rating: **3.6**\\n16. Requirements: \\n   - Must have a Bachelor\\'s degree or higher in Computer Science, Artificial Intelligence, or related field (Master\\'s preferred)\\n   - Proficiency in Python programming is required'"
      ]
     },
     "execution_count": 51,
     "metadata": {},
     "output_type": "execute_result"
    }
   ],
   "source": [
    "response_str"
   ]
  },
  {
   "cell_type": "code",
   "execution_count": null,
   "id": "b218318b",
   "metadata": {},
   "outputs": [],
   "source": []
  }
 ],
 "metadata": {
  "kernelspec": {
   "display_name": "Python 3 (ipykernel)",
   "language": "python",
   "name": "python3"
  },
  "language_info": {
   "codemirror_mode": {
    "name": "ipython",
    "version": 3
   },
   "file_extension": ".py",
   "mimetype": "text/x-python",
   "name": "python",
   "nbconvert_exporter": "python",
   "pygments_lexer": "ipython3",
   "version": "3.9.13"
  }
 },
 "nbformat": 4,
 "nbformat_minor": 5
}
